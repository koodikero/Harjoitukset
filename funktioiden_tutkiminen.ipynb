{
 "cells": [
  {
   "cell_type": "markdown",
   "id": "irish-adelaide",
   "metadata": {},
   "source": [
    "# Funktioiden tutkiminen"
   ]
  },
  {
   "cell_type": "markdown",
   "id": "twelve-venue",
   "metadata": {},
   "source": [
    "Tässä notebookissa on muutamia esimerkkejä, joissa visualisoidaan funktioita ja niiden ominaisuuksia. Aja aina ensin koodisolu ja tämän jälkeen voit tutkailla funktioita liukusäätimien avulla. Koodia on myös kommentoitu, joten voit yrittää ottaa mallia koodista ja tehdä itse oman visualisointityökalun tai muokata valmiita koodeja.\n",
    "\n",
    "**Huom!** Jos olet ajanut aiemmin toisen koodisolun ja palaat käyttämään toisen kuvaajan liukusäätimiä, saattavat jotkin arvot mennä sekaisin. Tästä syystä aja aina ensin se koodisolu, jonka liukusäätimiä haluat muuttaa."
   ]
  },
  {
   "cell_type": "markdown",
   "id": "tribal-current",
   "metadata": {},
   "source": [
    "## Toisen asteen yhtälö"
   ]
  },
  {
   "cell_type": "code",
   "execution_count": null,
   "id": "honest-address",
   "metadata": {},
   "outputs": [],
   "source": [
    "from ipywidgets import interactive\n",
    "import matplotlib.pyplot as plt\n",
    "import numpy as np\n",
    "\n",
    "# Toisen asteen yhtälö\n",
    "def toisen_asteen_yhtalo(x, a, b, c):\n",
    "    return a*x**2+b*x+c\n",
    "\n",
    "# Määritetään vakiot\n",
    "xmin = -5\n",
    "xmax = 5\n",
    "ymin = -2\n",
    "ymax = 5\n",
    "tickstep = 1\n",
    "\n",
    "# Tehdään funktio, joka päivittää kuvaajaa sitä mukaan kun x:n arvoa muutetaan. \n",
    "def update1(a, b, c):\n",
    "    fig = plt.figure(figsize=(12,8))\n",
    "    plt.title(r'$f(x)=ax^2+bx+c$',fontsize=20) # Kuvaajan otsikko\n",
    "    x = np.linspace(xmin, xmax, num=1000) # # Piirrettävä väli ja pisteiden lukumäärä\n",
    "    plt.plot(x, toisen_asteen_yhtalo(x,a,b,c), lw=2.5) # Piirretään toisen asteen yhtälö\n",
    "    \n",
    "    # Akseleiden muotoilut\n",
    "    ax = fig.gca() # Haetaan muuttuja, jonka avulla akseleita muokataan\n",
    "    ax.set_ylim(ymin, ymax) # y-akselin rajat\n",
    "    ax.set_xlim(xmin, xmax) # x-akselin rajat\n",
    "    ax.set_xticks(np.arange(xmin, xmax+tickstep, tickstep)) # x-akselin pisteiden paikat\n",
    "    ax.set_yticks(np.arange(ymin, ymax+tickstep, tickstep)) # y-akselin pisteiden paikat\n",
    "    ax.axhline(y=0, color='k') # y=0 -suoran korostus\n",
    "    ax.axvline(x=0, color='k') # x=0 -suoran korostus\n",
    "    plt.grid() # Näytetään ruudukko\n",
    "    \n",
    "    # Akseleiden otsikot\n",
    "    plt.xlabel(\"x\",fontsize=20)\n",
    "    plt.ylabel(\"y\",fontsize=20)\n",
    "    \n",
    "    # Kuvaajan piirtäminen\n",
    "    plt.show()\n",
    "\n",
    "# Tehdään interaktiivinen kuvaaja, jossa liukusäätimellä muutetaan x:n arvoa\n",
    "# x:n arvon muuttuessa funktiota \"update\" kutsutaan valitulla x:n arvolla\n",
    "interactive_plot = interactive(update1, a=(-2, 2, 0.05), b=(-5, 5, 0.2), c=(-5, 5, 0.2))\n",
    "interactive_plot"
   ]
  },
  {
   "cell_type": "markdown",
   "id": "developing-belarus",
   "metadata": {},
   "source": [
    "## Derivaatta ja tangentin kulmakerroin"
   ]
  },
  {
   "cell_type": "code",
   "execution_count": null,
   "id": "inappropriate-bangladesh",
   "metadata": {
    "scrolled": false
   },
   "outputs": [],
   "source": [
    "from ipywidgets import interactive\n",
    "import matplotlib.pyplot as plt\n",
    "import numpy as np\n",
    "\n",
    "# Tarkastellaan sinifunktiota. Merkitään funktiota kirjaimella \"f\".\n",
    "def f(x):\n",
    "    return np.sin(x)\n",
    "    \n",
    "# Sinin derivaatta on kosini. Merkitään tätä \"df\".\n",
    "def df(x):\n",
    "    return np.cos(x)\n",
    "\n",
    "# Määritetään vakiot\n",
    "xmin = -2*np.pi\n",
    "xmax = 2*np.pi\n",
    "step = np.pi/8\n",
    "ymin = -2\n",
    "ymax = 2\n",
    "tickstep = np.pi/2\n",
    "\n",
    "# Tehdään funktio, joka päivittää kuvaajaa sitä mukaan kun x:n arvoa muutetaan.\n",
    "def update2(x):\n",
    "    fig = plt.figure(figsize=(12,8))\n",
    "    rng = np.linspace(xmin, xmax, num=1000) # Piirrettävä väli ja pisteiden lukumäärä\n",
    "    plt.plot(rng, f(rng), 'b-', lw=2.5) # Sinifunktion piirtäminen paksulla sinisellä viivalla\n",
    "    plt.plot(rng, df(x)*rng+f(x)-df(x)*x, 'r--') # Tangentin kulmakerroin punaisella katkoviivalla\n",
    "    plt.plot(x, f(x), 'ko') # Piste käyrällä\n",
    "    plt.text(x, f(x)+0.1, r'$k={:.4f}$'.format(df(x)), fontsize=20) # kulmakerroin teksti\n",
    "    plt.text(xmin+4/3*step,3/4*ymax,r'$f(x)=sin(x)$',color='b',fontsize=20) # funktio teksti\n",
    "    \n",
    "    # Akseleiden muotoilut\n",
    "    ax = fig.gca() # Haetaan muuttuja, jonka avulla akseleita muokataan\n",
    "    ax.set_ylim(ymin, ymax) # y-akselin rajat\n",
    "    ax.set_xlim(xmin, xmax) # x-akselin rajat\n",
    "    ax.set_xticks(np.arange(xmin,xmax+step,tickstep)) # x-akselin pisteiden paikat\n",
    "    # x-akselin pisteiden otsikot.\n",
    "    ax.set_xticklabels([r\"$-2\\pi$\",r'$-\\frac{%s}{%s}$'%(\"3\\pi\",2),r\"$-\\pi$\",r'$-\\frac{%s}{%s}$'%(\"\\pi\",2),\"0\",r'$\\frac{%s}{%s}$'%(\"\\pi\",2),r\"$\\pi$\",r'$\\frac{%s}{%s}$'%(\"3\\pi\",2),r\"$2\\pi$\"])\n",
    "    ax.set_yticks(np.arange(ymin, ymax+1, 1)) # y-akselin pisteiden paikat\n",
    "    ax.xaxis.set_tick_params(labelsize=16) # x-akselin fonttikoko\n",
    "    ax.yaxis.set_tick_params(labelsize=16) # y-akselin fonttikoko\n",
    "    ax.axhline(y=0, color='k') # y=0 -suoran korostus\n",
    "    ax.axvline(x=0, color='k') # x=0 -suoran korostus\n",
    "    plt.grid() # Näytetään ruudukko\n",
    "    \n",
    "    # Akseleiden otsikot\n",
    "    plt.xlabel(\"x\",fontsize=20)\n",
    "    plt.ylabel(\"y\",fontsize=20)\n",
    "    \n",
    "    # Kuvaajan piirtäminen\n",
    "    plt.show()\n",
    "\n",
    "# Tehdään interaktiivinen kuvaaja, jossa liukusäätimellä muutetaan x:n arvoa\n",
    "# x:n arvon muuttuessa funktiota \"update\" kutsutaan valitulla x:n arvolla\n",
    "interactive_plot = interactive(update2, x=(xmin,xmax,step))\n",
    "interactive_plot"
   ]
  },
  {
   "cell_type": "markdown",
   "id": "paperback-builder",
   "metadata": {},
   "source": [
    "## Funktion nollakohdat"
   ]
  },
  {
   "cell_type": "markdown",
   "id": "charming-adult",
   "metadata": {},
   "source": [
    "Selvitetään funktion nollakohdat ja piirretään ne kuvaajaan. Pythonissa on symboliseen laskentaan tarkoitettu paketti \"SymPy\", jota voidaan hyödyntää tässä tehtävässä."
   ]
  },
  {
   "cell_type": "code",
   "execution_count": null,
   "id": "junior-blues",
   "metadata": {},
   "outputs": [],
   "source": [
    "from sympy import Symbol\n",
    "from sympy.solvers import solve\n",
    "import matplotlib.pyplot as plt\n",
    "import numpy as np\n",
    "\n",
    "# Määritetään ratkaistava funktio\n",
    "def f(x):\n",
    "    return x**3-2*x**2-x\n",
    "\n",
    "# Symbolista laskentaa varten otetaan symboli x käyttöön\n",
    "x = Symbol('x')\n",
    "\n",
    "# Ratkaistaan funktion juuret solve-työkalulla\n",
    "roots = solve(f(x), x)\n",
    "\n",
    "# Tulostetaan ratkaistut juuret\n",
    "print(roots)"
   ]
  },
  {
   "cell_type": "code",
   "execution_count": null,
   "id": "exposed-upgrade",
   "metadata": {},
   "outputs": [],
   "source": [
    "# Piirretään funktiosta kuvaaja ja merkitään juuret kuvaan\n",
    "\n",
    "rng = np.linspace(-2,3,num=1000) # Piirrettävä väli ja pisteiden lukumäärä\n",
    "fig = plt.figure(figsize=(12,8)) # Alustetaan kuvaaja\n",
    "\n",
    "plt.plot(rng,f(rng)) # Piirretään funktio välillä \"rng\"\n",
    "\n",
    "# Piirretään jokainen juuri \"roots\"-listasta\n",
    "for root in roots:\n",
    "    plt.plot(root, f(root), 'ko', markersize=8)\n",
    "\n",
    "# Akseleiden muotoilut\n",
    "ax = fig.gca() # Haetaan muuttuja, jonka avulla akseleita muokataan\n",
    "ax.axhline(y=0, color='k') # y=0 -suoran korostus\n",
    "ax.axvline(x=0, color='k') # x=0 -suoran korostus\n",
    "plt.grid() # Näytetään ruudukko\n",
    "\n",
    "# Kuvaajan näyttäminen\n",
    "plt.show()"
   ]
  }
 ],
 "metadata": {
  "kernelspec": {
   "display_name": "Python 3",
   "language": "python",
   "name": "python3"
  },
  "language_info": {
   "codemirror_mode": {
    "name": "ipython",
    "version": 3
   },
   "file_extension": ".py",
   "mimetype": "text/x-python",
   "name": "python",
   "nbconvert_exporter": "python",
   "pygments_lexer": "ipython3",
   "version": "3.8.5"
  }
 },
 "nbformat": 4,
 "nbformat_minor": 5
}
